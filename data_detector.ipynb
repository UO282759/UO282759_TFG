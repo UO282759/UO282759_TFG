{
 "cells": [
  {
   "cell_type": "markdown",
   "id": "fa615404-38f7-4f43-95f4-58bb34a29d21",
   "metadata": {},
   "source": [
    "### IMPORTS"
   ]
  },
  {
   "cell_type": "code",
   "execution_count": null,
   "id": "44b06095-6c1f-4334-b89f-278af103f1ea",
   "metadata": {},
   "outputs": [],
   "source": [
    "%matplotlib widget\n",
    "import sys\n",
    "import math\n",
    "from pathlib import Path\n",
    "from operator import itemgetter\n",
    "\n",
    "import numpy as np\n",
    "import scipy.signal\n",
    "from matplotlib import pyplot as plt\n"
   ]
  },
  {
   "cell_type": "markdown",
   "id": "f36b9983-fed6-4459-9959-fd78d8111c1b",
   "metadata": {},
   "source": [
    "### CONFIGURATION"
   ]
  },
  {
   "cell_type": "code",
   "execution_count": null,
   "id": "143ce8ba-15f6-47a7-97bb-f899d3c71a95",
   "metadata": {},
   "outputs": [],
   "source": [
    "DATADIR = ...\n",
    "DATASET = ...\n",
    "LOAD_MASSES = ...\n",
    "MIN_EVENT_LENGTH = 10\n",
    "MAX_EVENT_LENGTH = 150\n",
    "MASS_FOR_SELECTION = ...\n",
    "MASS_OF_INTEREST = ..."
   ]
  },
  {
   "cell_type": "markdown",
   "id": "24c706af-364b-428c-8b6e-6d1bc5580a69",
   "metadata": {},
   "source": [
    "### MAIN"
   ]
  },
  {
   "cell_type": "markdown",
   "id": "953ab2d1-6a4f-4710-9890-8b57bfcf1b37",
   "metadata": {},
   "source": [
    "#### Generate numpy array"
   ]
  },
  {
   "cell_type": "code",
   "execution_count": null,
   "id": "a7319065-27f3-47f1-b369-392c9a8ba1ca",
   "metadata": {},
   "outputs": [],
   "source": [
    "with open(DATADIR / DATASET) as f:\n",
    "    available = [int(m) for m in f.readline()[:-1].split(\"\\t\")[1:]]\n",
    "    masses = dict(zip(available, list(range(1,len(available) + 1))))\n",
    "    \n",
    "for mass in LOAD_MASSES:\n",
    "    assert mass in masses, f\"Mass {mass} not in the available masses:{', '.join(m for m in masses)}\"\n",
    "\n",
    "ar = np.loadtxt(DATADIR / DATASET, delimiter=\"\\t\", skiprows=1, usecols=[masses[m] for m in LOAD_MASSES])\n",
    "\n",
    "print(f\"Loadad array with {ar.shape[1]} columns and {ar.shape[0]} rows, with a size of {sys.getsizeof(ar)} bytes.\")\n",
    "\n",
    "mass_dict = dict(zip(LOAD_MASSES, range(len(LOAD_MASSES))))"
   ]
  },
  {
   "cell_type": "markdown",
   "id": "25d31f05-e727-40f2-9dca-cc3efa9f5cf1",
   "metadata": {},
   "source": [
    "#### Get all peaks"
   ]
  },
  {
   "cell_type": "code",
   "execution_count": null,
   "id": "352af136-1d73-4581-a703-4b322bc66acb",
   "metadata": {},
   "outputs": [],
   "source": [
    "events_by_mass = {}\n",
    "for i in range(ar.shape[1]):\n",
    "    peaks = scipy.signal.find_peaks(ar[:,i],width=(MIN_EVENT_LENGTH, MAX_EVENT_LENGTH))[0]\n",
    "    if not peaks.size:\n",
    "        print(\"Could,'t detect any event for mass\", LOAD_MASSES[i])\n",
    "    peak_widths = scipy.signal.peak_widths(ar[:,i], peaks, rel_height=1.0)\n",
    "    left = peak_widths[2]\n",
    "    right = peak_widths[3]\n",
    "    events_by_mass[LOAD_MASSES[i]] = list(zip(left.astype(int),right.astype(int)))"
   ]
  },
  {
   "cell_type": "code",
   "execution_count": null,
   "id": "4ecaa7e5-affa-4444-b3ae-53cb2523324d",
   "metadata": {
    "scrolled": true
   },
   "outputs": [],
   "source": [
    "events_by_mass"
   ]
  },
  {
   "cell_type": "code",
   "execution_count": null,
   "id": "e2e4f436-32dc-4447-9b3a-49d6d58759f0",
   "metadata": {},
   "outputs": [],
   "source": [
    "# GET THE INTEGRAL OF EVERY EVENT\n",
    "sum_I = np.array([i for i in [np.sum(ar[side[0]:side[1], mass_dict[MASS_OF_INTEREST]],axis=0) for side in events_by_mass[MASS_FOR_SELECTION]]])\n",
    "print(f\"{sum_I.size} detected events.\")"
   ]
  },
  {
   "cell_type": "code",
   "execution_count": null,
   "id": "a57e1235-6b6b-4026-9a20-e7568fd63138",
   "metadata": {
    "scrolled": true
   },
   "outputs": [],
   "source": [
    "sum_I"
   ]
  },
  {
   "cell_type": "code",
   "execution_count": null,
   "id": "309706cb-47f8-4c17-b72a-b9fabe732fa9",
   "metadata": {},
   "outputs": [],
   "source": [
    "DT = 13e-6  # 13 µs == 13e-6 s\n",
    "FLOW = 0.5  # 30 µL/min == 0.5 µL/s\n",
    "TE = 0.1  # 0.1 = 10 %\n",
    "# 1 ppb == 1 ng/mL == 1 fg/µL\n",
    "TFE = DT * FLOW / TE\n",
    "\n",
    "X0 = 0\n",
    "X1 = 1\n",
    "event_mass_interest = (sum_I - X0) / X1 * DT * FLOW / TE"
   ]
  },
  {
   "cell_type": "markdown",
   "id": "c6de6b43-87d6-48f9-b7d9-4d7fd23c1230",
   "metadata": {},
   "source": [
    "### VALIDATION"
   ]
  },
  {
   "cell_type": "code",
   "execution_count": null,
   "id": "eaa1c1fc-54b8-4ebc-beb3-5c9715fb56ae",
   "metadata": {},
   "outputs": [],
   "source": [
    "icp = ..."
   ]
  },
  {
   "cell_type": "code",
   "execution_count": null,
   "id": "b48d732c-872a-448e-a84e-ed16f5cc245b",
   "metadata": {},
   "outputs": [],
   "source": [
    "plt.figure()\n",
    "plt.boxplot((icp, event_mass_interest[event_mass_interest<120]))\n",
    "plt.gca().set_xticklabels([\"SC-ICP-MS\",\"CyTOF\"])\n",
    "plt.gca().set_ylabel(\"mass (fg)\")\n",
    "plt.show()"
   ]
  }
 ],
 "metadata": {
  "kernelspec": {
   "display_name": "Python 3 (ipykernel)",
   "language": "python",
   "name": "python3"
  },
  "language_info": {
   "codemirror_mode": {
    "name": "ipython",
    "version": 3
   },
   "file_extension": ".py",
   "mimetype": "text/x-python",
   "name": "python",
   "nbconvert_exporter": "python",
   "pygments_lexer": "ipython3",
   "version": "3.12.4"
  }
 },
 "nbformat": 4,
 "nbformat_minor": 5
}
